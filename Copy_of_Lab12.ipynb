{
  "cells": [
    {
      "cell_type": "markdown",
      "metadata": {
        "id": "view-in-github",
        "colab_type": "text"
      },
      "source": [
        "<a href=\"https://colab.research.google.com/github/Nick4556/lab-notebooks-original/blob/main/Copy_of_Lab12.ipynb\" target=\"_parent\"><img src=\"https://colab.research.google.com/assets/colab-badge.svg\" alt=\"Open In Colab\"/></a>"
      ]
    },
    {
      "cell_type": "markdown",
      "metadata": {
        "id": "jyQP-9Fni5Ue"
      },
      "source": [
        "<a href=\"https://colab.research.google.com/github/LMU-CMSI-1010/lab-notebooks-original/blob/main/Lab12.ipynb\" target=\"_parent\"><img src=\"https://colab.research.google.com/assets/colab-badge.svg\" alt=\"Open In Colab\"/></a>"
      ]
    },
    {
      "cell_type": "markdown",
      "metadata": {
        "id": "9aXfrLXg9seM"
      },
      "source": [
        "# Lab 12 Recursion Recursion\n",
        "This lab will give you the opportunity to write more recursive functions and to trace them.\n",
        "\n",
        "\n"
      ]
    },
    {
      "cell_type": "markdown",
      "metadata": {
        "id": "NeQK-bkp3AKI"
      },
      "source": [
        "## The Fibonacci Sequence\n",
        "A **sequence** is an ordered list of objects. In this case we will look at a sequence of numbers, the **Fibonacci Sequence**. We use variables such as f<sub>1</sub>, f<sub>2</sub>, f<sub>3</sub>, ... to mean the first number in the sequence, second number in the sequence, the third number in the sequence, and so forth.\n",
        "\n",
        "The **Fibonacci sequence** has the special relationship called a **recurrence** where we define a number in the sequence by the sum of the two numbers in the sequence before it. Let's look at the sequence now: <br>\n",
        "f<sub>1</sub> = 1, f<sub>2</sub> = 1, f<sub>3</sub> = 2, f<sub>4</sub> = 3, f<sub>5</sub> = 5, f<sub>6</sub> = 8, ...<br>\n",
        "Can you tell what f<sub>7</sub> should be? Let's look at the pattern. <br>\n",
        "We are given that f<sub>1</sub> is 1 and f<sub>2</sub> is 1. Those are the base cases. <br>\n",
        "Now look at the other terms: <br>\n",
        "f<sub>3</sub> = 2 = f<sub>1</sub> + f<sub>2</sub> = 1 + 1 <br>\n",
        "f<sub>4</sub> = 3 = f<sub>2</sub> + f<sub>3</sub> = 1 + 2 <br>\n",
        "f<sub>5</sub> = 5 = f<sub>3</sub> + f<sub>4</sub> = 2 + 3 <br>\n",
        "f<sub>6</sub> = 8 = f<sub>4</sub> + f<sub>5</sub> = 3 + 5 <br>\n",
        "If we continue this pattern for f<sub>7</sub> <br>\n",
        "f<sub>7</sub> = f<sub>5</sub> + f<sub>6</sub> = 5 + 8 = 13 <br>\n",
        "\n",
        "More generally, the n-th Fibonacci number equals the (n–2)-nd Fibonacci number plus the (n–1)-st Fibonacci number: <br>\n",
        "f<sub>n</sub> = f<sub>n–2</sub> + f<sub>n–1</sub> <br>\n",
        "\n",
        "**Do this:** In the following cell, you will **complete code to compute the n-th Fibonacci number**."
      ]
    },
    {
      "cell_type": "code",
      "execution_count": 5,
      "metadata": {
        "id": "9sggpWEB33fV"
      },
      "outputs": [],
      "source": [
        "# Nicholas Chung\n",
        "def fibonacci(n):\n",
        "    # Handle the error case if n is not greater than 0\n",
        "    # This case does not need to be changed\n",
        "    if n <= 0:\n",
        "        print('n must be greater than 0')\n",
        "        return None\n",
        "    elif n == 0:\n",
        "        return 0\n",
        "    elif n == 1 or n == 2:\n",
        "        return 1\n",
        "    else:\n",
        "        return fibonacci(n-1) + fibonacci(n-2)\n",
        "\n",
        "fibonacci(4)\n",
        "assert(fibonacci(7) == 13)\n",
        "assert(fibonacci(5) == 5)"
      ]
    },
    {
      "cell_type": "markdown",
      "metadata": {
        "id": "3NnTCLBI5nsb"
      },
      "source": [
        "### Tracing Fibonacci\n",
        "Now take a moment to see what is happening when you call your function `fibonacci(4)` in order to return the fourth Fibonacci number.\n",
        "\n",
        "**Do this:** Visualize the sequence of function calls made by your function when you call `fibonacci(4)` to return the fourth Fibonacci number either by hand or through PythonTutor. **Upload the resulting stack diagram to your lab notebooks repository and supply a plain language explanation of what is happening in the text box below:**\n",
        "\n"
      ]
    },
    {
      "cell_type": "markdown",
      "metadata": {
        "id": "AGLvvN4FQMcz"
      },
      "source": [
        "***\n",
        "**Do this:**\n",
        "![Lab12Fibonacci.png](data:image/png;base64,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)\n",
        "\n",
        "First, the code checks to see if 4 is less than 0 or equal to 0. Then,\n",
        "\n",
        "***"
      ]
    },
    {
      "cell_type": "markdown",
      "source": [
        "**Actual check**\n",
        "\n",
        "First, the code checks to see if 4 is less than or equal to 0. It find out it's not. Then, the code checks to see if 4 is equal to 1 or 2, but it's not. Finally, the code run succesfully."
      ],
      "metadata": {
        "id": "W6i4aKwdYGwq"
      }
    },
    {
      "cell_type": "markdown",
      "metadata": {
        "id": "VwQPNN6e6QI_"
      },
      "source": [
        "### Print a list backwards iteratively\n",
        "Given a list, **write an *iterative function* to print the list backwards one element at a time.**\n",
        "*Remember that iterative means to use a loop.*\n",
        "\n",
        "For example, if your function is given the list `[4, 7, 9, 2]`, your function should print\n",
        "```\n",
        "2 9 7 4\n",
        "```\n",
        "**Do this:** Complete the following function, `iterative_print_backwards`"
      ]
    },
    {
      "cell_type": "code",
      "execution_count": 7,
      "metadata": {
        "colab": {
          "base_uri": "https://localhost:8080/",
          "height": 323
        },
        "id": "rz-jwUKp6cUJ",
        "outputId": "18c3edbe-6512-4931-84dd-c61b4c1a3ee9"
      },
      "outputs": [
        {
          "output_type": "stream",
          "name": "stdout",
          "text": [
            "9\n"
          ]
        },
        {
          "output_type": "error",
          "ename": "IndexError",
          "evalue": "list index out of range",
          "traceback": [
            "\u001b[0;31m---------------------------------------------------------------------------\u001b[0m",
            "\u001b[0;31mIndexError\u001b[0m                                Traceback (most recent call last)",
            "\u001b[0;32m<ipython-input-7-97cacd067614>\u001b[0m in \u001b[0;36m<cell line: 12>\u001b[0;34m()\u001b[0m\n\u001b[1;32m     10\u001b[0m \u001b[0;31m# You do not need to change the following line of code\u001b[0m\u001b[0;34m\u001b[0m\u001b[0;34m\u001b[0m\u001b[0m\n\u001b[1;32m     11\u001b[0m \u001b[0;31m# You can add more function calls to test your function\u001b[0m\u001b[0;34m\u001b[0m\u001b[0;34m\u001b[0m\u001b[0m\n\u001b[0;32m---> 12\u001b[0;31m \u001b[0miterative_print_backwards\u001b[0m\u001b[0;34m(\u001b[0m\u001b[0;34m[\u001b[0m\u001b[0;36m4\u001b[0m\u001b[0;34m,\u001b[0m \u001b[0;36m7\u001b[0m\u001b[0;34m,\u001b[0m \u001b[0;36m9\u001b[0m\u001b[0;34m,\u001b[0m \u001b[0;36m2\u001b[0m\u001b[0;34m]\u001b[0m\u001b[0;34m)\u001b[0m\u001b[0;34m\u001b[0m\u001b[0;34m\u001b[0m\u001b[0m\n\u001b[0m",
            "\u001b[0;32m<ipython-input-7-97cacd067614>\u001b[0m in \u001b[0;36miterative_print_backwards\u001b[0;34m(test)\u001b[0m\n\u001b[1;32m      5\u001b[0m \u001b[0;32mdef\u001b[0m \u001b[0miterative_print_backwards\u001b[0m\u001b[0;34m(\u001b[0m\u001b[0mtest\u001b[0m\u001b[0;34m)\u001b[0m\u001b[0;34m:\u001b[0m\u001b[0;34m\u001b[0m\u001b[0;34m\u001b[0m\u001b[0m\n\u001b[1;32m      6\u001b[0m   \u001b[0;32mfor\u001b[0m \u001b[0mi\u001b[0m \u001b[0;32min\u001b[0m \u001b[0mreversed\u001b[0m\u001b[0;34m(\u001b[0m\u001b[0mtest\u001b[0m\u001b[0;34m)\u001b[0m\u001b[0;34m:\u001b[0m\u001b[0;34m\u001b[0m\u001b[0;34m\u001b[0m\u001b[0m\n\u001b[0;32m----> 7\u001b[0;31m     \u001b[0mprint\u001b[0m\u001b[0;34m(\u001b[0m\u001b[0mtest\u001b[0m\u001b[0;34m[\u001b[0m\u001b[0mi\u001b[0m\u001b[0;34m]\u001b[0m\u001b[0;34m)\u001b[0m\u001b[0;34m\u001b[0m\u001b[0;34m\u001b[0m\u001b[0m\n\u001b[0m\u001b[1;32m      8\u001b[0m \u001b[0;34m\u001b[0m\u001b[0m\n\u001b[1;32m      9\u001b[0m \u001b[0;31m# Test the function by making function calls\u001b[0m\u001b[0;34m\u001b[0m\u001b[0;34m\u001b[0m\u001b[0m\n",
            "\u001b[0;31mIndexError\u001b[0m: list index out of range"
          ]
        }
      ],
      "source": [
        "# TODO: iterative_print_backwards: given a list, this function prints\n",
        "# the list backwards one item at a time followed by a new line.\n",
        "# This function should not return anything.\n",
        "\n",
        "def iterative_print_backwards(test):\n",
        "  for i in reversed(test):\n",
        "    print(test[i])\n",
        "\n",
        "# Test the function by making function calls\n",
        "# You do not need to change the following line of code\n",
        "# You can add more function calls to test your function\n",
        "iterative_print_backwards([4, 7, 9, 2])"
      ]
    },
    {
      "cell_type": "markdown",
      "metadata": {
        "id": "90Zthmy_S6AS"
      },
      "source": [
        "### Print a list backwards recursively\n",
        "Given a list, **write a *recursive function* to print the list backwards one element at a time.**\n",
        "*Remember that **recursive** means that the function must call itself.*\n",
        "\n",
        "For example, if your function is given the list, `[4, 7, 9, 2]`, your function should print\n",
        "```\n",
        "2 9 7 4\n",
        "```\n",
        "**Do this:** Complete the following function, `recursive_print_backwards`"
      ]
    },
    {
      "cell_type": "code",
      "execution_count": null,
      "metadata": {
        "colab": {
          "base_uri": "https://localhost:8080/"
        },
        "id": "ew5_E0TaTJw3",
        "outputId": "e8d2cb36-1f93-424c-e8b8-07f522d3dc21"
      },
      "outputs": [
        {
          "name": "stdout",
          "output_type": "stream",
          "text": [
            "2 "
          ]
        }
      ],
      "source": [
        "# TODO: recursive_print_backwards: given a list, this function prints\n",
        "# the list backwards one item at a time followed by a new line.\n",
        "# This function should not return anything.\n",
        "\n",
        "def recursive_print_backwards(test):\n",
        "    for i in reversed(test):\n",
        "    print(test[i])\n",
        "\n",
        "# Test the function by making function calls\n",
        "# You do not need to change the following line of code\n",
        "# You can add more function calls to test your function\n",
        "recursive_print_backwards([4, 7, 9, 2])"
      ]
    },
    {
      "cell_type": "markdown",
      "metadata": {
        "id": "0PA2HcBPQDrf"
      },
      "source": [
        "**Do this:**  Visualize the sequence of function calls made `recursive_print_backwards` either by hand or through PythonTutor. Upload the resulting stack diagram to your lab notebooks repository and supply a plain language explanation of what is happening in the text box below:"
      ]
    },
    {
      "cell_type": "markdown",
      "metadata": {
        "id": "lPupPwlKQdbv"
      },
      "source": [
        "***\n",
        "\n",
        ">Error, so unable to finish.\n",
        "\n",
        "***"
      ]
    },
    {
      "cell_type": "markdown",
      "metadata": {
        "id": "dKL0LYd-E4JB"
      },
      "source": [
        "### (Optional) Reflections\n",
        "Add a text cell below to answer the following questions:\n",
        "1. What do you feel more confident about after completing this lab?\n",
        "2. What do you feel you can use more help with after completing this lab?\n",
        "3. Do you have any constructive suggestions on how we can help you or improve this lab?"
      ]
    },
    {
      "cell_type": "markdown",
      "metadata": {
        "id": "gB1aHDpyFYey"
      },
      "source": [
        "### Save your work to GitHub\n",
        "Please save this notebook to your lab repository."
      ]
    }
  ],
  "metadata": {
    "kernelspec": {
      "display_name": "Python 3",
      "language": "python",
      "name": "python3"
    },
    "language_info": {
      "codemirror_mode": {
        "name": "ipython",
        "version": 3
      },
      "file_extension": ".py",
      "mimetype": "text/x-python",
      "name": "python",
      "nbconvert_exporter": "python",
      "pygments_lexer": "ipython3",
      "version": "3.8.5"
    },
    "colab": {
      "provenance": [],
      "include_colab_link": true
    }
  },
  "nbformat": 4,
  "nbformat_minor": 0
}
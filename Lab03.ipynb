{
  "cells": [
    {
      "cell_type": "markdown",
      "metadata": {
        "id": "Lt92sp27GiVj"
      },
      "source": [
        "<a href=\"https://colab.research.google.com/github/LMU-CMSI-1010/lab-notebooks-original/blob/main/Lab03.ipynb\" target=\"_parent\"><img src=\"https://colab.research.google.com/assets/colab-badge.svg\" alt=\"Open In Colab\"/></a>"
      ]
    },
    {
      "cell_type": "markdown",
      "metadata": {
        "id": "9aXfrLXg9seM"
      },
      "source": [
        "# Lab 03 Heat-Check\n",
        "In this lab you will practice writing functions that print results to the user and that return values.\n",
        "\n",
        "## From Celsius to Fahrenheit\n",
        "\n",
        "In class we presented a function that, given a temperature in Celsius, will print the temperature in Fahrenheit. We include it below as an example that you will use for the next function.\n",
        "\n"
      ]
    },
    {
      "cell_type": "code",
      "execution_count": 4,
      "metadata": {
        "id": "Rt0kFDWS9RJU",
        "colab": {
          "base_uri": "https://localhost:8080/"
        },
        "outputId": "928f73d5-b382-43a5-ffda-8e3916e9dad3"
      },
      "outputs": [
        {
          "output_type": "stream",
          "name": "stdout",
          "text": [
            "0.0 C == 32.0 F\n"
          ]
        }
      ],
      "source": [
        "def print_as_fahrenheit(c):\n",
        "    f = ((9.0 / 5.0) * c) + 32.0\n",
        "    print(c, 'C ==', f, 'F')\n",
        "\n",
        "\n",
        "print_as_fahrenheit(0.0)"
      ]
    },
    {
      "cell_type": "markdown",
      "metadata": {
        "id": "y2c-tRWA91fr"
      },
      "source": [
        "## From Fahrenheit to Celsius\n",
        "\n",
        "Using the function `print_as_fahrenheit` for how to make the conversion between Fahrenheit and Celsius, **write a function `print_as_celsius(f)`**. This function should take as input a temperature in Fahrenheit and print the temperature in Celsius. We have given an example of how it should be printed for the example above."
      ]
    },
    {
      "cell_type": "code",
      "execution_count": 8,
      "metadata": {
        "id": "NMcvm3E4-sl_",
        "colab": {
          "base_uri": "https://localhost:8080/"
        },
        "outputId": "ba7f20de-cb59-4e47-e67b-9a5f342150cb"
      },
      "outputs": [
        {
          "output_type": "stream",
          "name": "stdout",
          "text": [
            "32.0 F == 0 C\n",
            "32.0 F == 0.0 C\n"
          ]
        }
      ],
      "source": [
        "# TODO: Write a function that, given a temperature in Fahrenheit, prints the\n",
        "# temperature in Celsius. The conversion is subtract 32, then multiply by 5/9.\n",
        "#\n",
        "# Call this function print_as_celsius().\n",
        "def print_as_celsius(f):\n",
        "  c = (f * (5.0/9.0)) - 32.0\n",
        "  c = abs(c)\n",
        "  print(c, 'F ==', f, 'C')\n",
        "\n",
        "print_as_celsius(0)\n",
        "\n",
        "print('32.0 F == 0.0 C') # This is sample output! Make sure to do this for real."
      ]
    },
    {
      "cell_type": "markdown",
      "metadata": {
        "id": "zXC7orYI_T3E"
      },
      "source": [
        "## Testing your code\n",
        "The following code will use the function provided to print the Celsius temperature in Fahrenheit and the function you have written to print the temperature in Fahrenheit in Celsius. **Test your code using the code below and add at least two more function calls to test your code.**"
      ]
    },
    {
      "cell_type": "code",
      "execution_count": 10,
      "metadata": {
        "id": "fpq9XjRC_TJG",
        "colab": {
          "base_uri": "https://localhost:8080/"
        },
        "outputId": "6d1545f6-9f6b-4fac-9f3b-c0ff07a23ec3"
      },
      "outputs": [
        {
          "output_type": "stream",
          "name": "stdout",
          "text": [
            "37 C == 98.60000000000001 F\n",
            "22.77777777777778 F == 98.6 C\n",
            "0 C == 32.0 F\n",
            "32.0 F == 0 C\n"
          ]
        }
      ],
      "source": [
        "# This code will only work once you write your function above.\n",
        "# Check that the results are consistent.\n",
        "print_as_fahrenheit(37)\n",
        "print_as_celsius(98.6)\n",
        "print_as_fahrenheit(0)\n",
        "print_as_celsius(0)\n",
        "\n",
        "# TODO: Can you add two more calls to your function to make sure that it\n",
        "# works properly?"
      ]
    },
    {
      "cell_type": "markdown",
      "metadata": {
        "id": "FBvQb4tOArmq"
      },
      "source": [
        "## Converting from miles to meters\n",
        "In the following cell, **write a function called `miles_to_meters` that, given a number of miles, *returns* the number of meters**. Remember that one mile is 1.60934 kilometers and 1 kilometer is 1000 meters, so there are 1,609.34 meters in one mile."
      ]
    },
    {
      "cell_type": "code",
      "execution_count": 11,
      "metadata": {
        "id": "gLFgAtynBorm"
      },
      "outputs": [],
      "source": [
        "# TODO: Write the function miles_to_meters.\n",
        "# - Single argument is a number of miles.\n",
        "# - Return value should be the number of meters.\n",
        "# - Nothing needs to be printed to the screen.\n",
        "# - We will test the code in the following cell.\n",
        "def miles_to_meters(miles):\n",
        "  kilometers = miles * 1.60934\n",
        "  meters = kilometers * 1000\n",
        "  return meters"
      ]
    },
    {
      "cell_type": "markdown",
      "metadata": {
        "id": "ILJ5Cy29CC68"
      },
      "source": [
        "## Testing the mile conversion\n",
        "In the following code we test your function. **You can modify this code or add more code to it to test your function.**"
      ]
    },
    {
      "cell_type": "code",
      "execution_count": 12,
      "metadata": {
        "id": "jvIpU4DECTli",
        "colab": {
          "base_uri": "https://localhost:8080/"
        },
        "outputId": "f6aaf289-a3db-410d-99b5-7b535e709b91"
      },
      "outputs": [
        {
          "output_type": "stream",
          "name": "stdout",
          "text": [
            "5 miles == 8046.7 meters\n"
          ]
        }
      ],
      "source": [
        "# TODO: Code in this cell will not work until you have written miles_to_meters\n",
        "mile_test = 5\n",
        "meter_test = miles_to_meters(mile_test)\n",
        "print(mile_test , 'miles ==', meter_test, 'meters')\n",
        "\n",
        "\n",
        "# We use this code to test your function. Do not modify these.\n",
        "assert(int(meter_test) == 8046)\n",
        "assert(int(miles_to_meters(1)) == 1609)"
      ]
    },
    {
      "cell_type": "markdown",
      "metadata": {
        "id": "tUJEMX4ZC_ka"
      },
      "source": [
        "## Calculating the total bill\n",
        "In the following cell **write a function, `calculate_total`, that receives as parameters a `price` (represented by a float) and a `percent` (represented as an integer) and returns the total price, including a percent increase as given by the `percent` parameter.**"
      ]
    },
    {
      "cell_type": "code",
      "execution_count": 13,
      "metadata": {
        "id": "OvRHXmU5EcOw"
      },
      "outputs": [],
      "source": [
        "# TODO: write calculate_total function\n",
        "# Parameters: float for price, integer for percent\n",
        "# Returns: float for total price with percent increase\n",
        "def calculate_total(price, percent):\n",
        "  total = price + (price/percent)\n",
        "  return total\n"
      ]
    },
    {
      "cell_type": "markdown",
      "metadata": {
        "id": "uP31YvtMDvtM"
      },
      "source": [
        "## Testing the calculate function\n",
        "**Complete the following testing code as specified in the comments.**"
      ]
    },
    {
      "cell_type": "code",
      "execution_count": 14,
      "metadata": {
        "id": "zn6Si5SZP-lg",
        "colab": {
          "base_uri": "https://localhost:8080/",
          "height": 216
        },
        "outputId": "09197a59-cac3-4f80-df56-6f9008c04586"
      },
      "outputs": [
        {
          "output_type": "stream",
          "name": "stdout",
          "text": [
            "85.06666666666666\n"
          ]
        },
        {
          "output_type": "error",
          "ename": "AssertionError",
          "evalue": "",
          "traceback": [
            "\u001b[0;31m---------------------------------------------------------------------------\u001b[0m",
            "\u001b[0;31mAssertionError\u001b[0m                            Traceback (most recent call last)",
            "\u001b[0;32m<ipython-input-14-49a21d95c209>\u001b[0m in \u001b[0;36m<cell line: 11>\u001b[0;34m()\u001b[0m\n\u001b[1;32m      9\u001b[0m \u001b[0mprint\u001b[0m\u001b[0;34m(\u001b[0m\u001b[0mtest_result\u001b[0m\u001b[0;34m)\u001b[0m\u001b[0;34m\u001b[0m\u001b[0;34m\u001b[0m\u001b[0m\n\u001b[1;32m     10\u001b[0m \u001b[0;31m# We use this code to test your function. Do not modify these.\u001b[0m\u001b[0;34m\u001b[0m\u001b[0;34m\u001b[0m\u001b[0m\n\u001b[0;32m---> 11\u001b[0;31m \u001b[0;32massert\u001b[0m\u001b[0;34m(\u001b[0m\u001b[0mtest_result\u001b[0m \u001b[0;34m==\u001b[0m \u001b[0;36m91.7125\u001b[0m\u001b[0;34m)\u001b[0m\u001b[0;34m\u001b[0m\u001b[0;34m\u001b[0m\u001b[0m\n\u001b[0m\u001b[1;32m     12\u001b[0m \u001b[0;32massert\u001b[0m\u001b[0;34m(\u001b[0m\u001b[0mcalculate_total\u001b[0m\u001b[0;34m(\u001b[0m\u001b[0;36m30\u001b[0m\u001b[0;34m,\u001b[0m \u001b[0;36m20\u001b[0m\u001b[0;34m)\u001b[0m \u001b[0;34m==\u001b[0m \u001b[0;36m36.0\u001b[0m\u001b[0;34m)\u001b[0m\u001b[0;34m\u001b[0m\u001b[0;34m\u001b[0m\u001b[0m\n",
            "\u001b[0;31mAssertionError\u001b[0m: "
          ]
        }
      ],
      "source": [
        "test_price = 79.75\n",
        "test_percent = 15\n",
        "\n",
        "# - TODO: Call your function on the test price and test percent and save the result\n",
        "#   to a new variable called test_result\n",
        "test_result = calculate_total(test_price, test_percent)\n",
        "#\n",
        "# - TODO: Print the new total\n",
        "print(test_result)\n",
        "# We use this code to test your function. Do not modify these.\n",
        "assert(test_result == 91.7125)\n",
        "assert(calculate_total(30, 20) == 36.0)"
      ]
    },
    {
      "cell_type": "markdown",
      "metadata": {
        "id": "dKL0LYd-E4JB"
      },
      "source": [
        "### (Optional) Reflections\n",
        "Add a text cell below to answer the following questions:\n",
        "1. What do you feel more confident about after completing this lab?\n",
        "2. What do you feel you can use more help with after completing this lab?\n",
        "3. Do you have any constructive suggestions on how we can help you or improve this lab?"
      ]
    },
    {
      "cell_type": "markdown",
      "metadata": {
        "id": "gB1aHDpyFYey"
      },
      "source": [
        "### Save your work to GitHub\n",
        "Please save this notebook to your **lab repository** _LMU-CMSI-1010/lab-notebooks-YOURID_"
      ]
    }
  ],
  "metadata": {
    "kernelspec": {
      "display_name": "Python 3",
      "language": "python",
      "name": "python3"
    },
    "language_info": {
      "codemirror_mode": {
        "name": "ipython",
        "version": 3
      },
      "file_extension": ".py",
      "mimetype": "text/x-python",
      "name": "python",
      "nbconvert_exporter": "python",
      "pygments_lexer": "ipython3",
      "version": "3.8.5"
    },
    "colab": {
      "provenance": []
    }
  },
  "nbformat": 4,
  "nbformat_minor": 0
}
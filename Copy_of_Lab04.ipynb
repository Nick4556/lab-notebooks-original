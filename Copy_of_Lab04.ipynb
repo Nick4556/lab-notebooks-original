{
  "cells": [
    {
      "cell_type": "markdown",
      "metadata": {
        "id": "view-in-github",
        "colab_type": "text"
      },
      "source": [
        "<a href=\"https://colab.research.google.com/github/Nick4556/lab-notebooks-original/blob/main/Copy_of_Lab04.ipynb\" target=\"_parent\"><img src=\"https://colab.research.google.com/assets/colab-badge.svg\" alt=\"Open In Colab\"/></a>"
      ]
    },
    {
      "cell_type": "markdown",
      "metadata": {
        "id": "V6nsyyvvYMPc"
      },
      "source": [
        "<a href=\"https://colab.research.google.com/github/LMU-CMSI-1010/lab-notebooks-original/blob/main/Lab04.ipynb\" target=\"_parent\"><img src=\"https://colab.research.google.com/assets/colab-badge.svg\" alt=\"Open In Colab\"/></a>"
      ]
    },
    {
      "cell_type": "markdown",
      "metadata": {
        "id": "9aXfrLXg9seM"
      },
      "source": [
        "# Lab 04 Take a Walk\n",
        "In this lab you will practice using boolean expressions to simulate taking a walk. The number and direction of steps will be determined by random integers—a common approach for programs that seek to simulate some behaviors or systems.\n",
        "\n",
        "## Flipping a coin and getting steps\n",
        "\n",
        "We provide you with code for simulating flipping a coin in the following cell. We also provide you with code to get a random number of steps to take. **Please remember to run this cell,** so that you may call the function to flip a coin and the function to get a random number of steps.\n",
        "\n"
      ]
    },
    {
      "cell_type": "code",
      "execution_count": 1,
      "metadata": {
        "id": "Rt0kFDWS9RJU"
      },
      "outputs": [],
      "source": [
        "# The random module is what lets us make calls to get random integers\n",
        "import random\n",
        "\n",
        "# This function simulates flipping a coin. It returns the string H for heads\n",
        "# and T for tails\n",
        "def flip_coin():\n",
        "    coin = ''\n",
        "    flip = random.randint(1, 10)\n",
        "    if flip <= 5:\n",
        "      coin = 'H'\n",
        "    else:\n",
        "      coin = 'T'\n",
        "    return coin\n",
        "\n",
        "# This function simulates taking a number of steps. It will return an integer\n",
        "# number of steps to take\n",
        "def get_steps():\n",
        "    steps = random.randint(1, 50)\n",
        "    return steps"
      ]
    },
    {
      "cell_type": "markdown",
      "metadata": {
        "id": "y2c-tRWA91fr"
      },
      "source": [
        "## Walking from the center of a room\n",
        "Now imagine that you or a robot if you prefer are placed in the center of the room. The following cell gives the variables to keep track of your position in that room. The room has a width of 100 ft and you (or your robot) can walk horizontally across the room to the left or the right. The leftmost wall has position 0 and the rightmost wall has position 100. **Please run this cell so you can use these variables. If you want to try to start over to test your code on different random coin flips and steps, run this cell again to reset your position in the room.**\n"
      ]
    },
    {
      "cell_type": "code",
      "execution_count": 2,
      "metadata": {
        "id": "NMcvm3E4-sl_"
      },
      "outputs": [],
      "source": [
        "# Use this variable to keep track of your position\n",
        "position = 50\n",
        "left_wall = 0\n",
        "right_wall = 100"
      ]
    },
    {
      "cell_type": "markdown",
      "metadata": {
        "id": "zXC7orYI_T3E"
      },
      "source": [
        "## Flip two coins\n",
        "In the following cell, **use the `flip_coin` function we provided above to simulate two coin flips. Save the results of flipping each coin in separate variables. Add code to check if each toss is heads or tails and save them as boolean variables as indicated in the comments.**"
      ]
    },
    {
      "cell_type": "code",
      "execution_count": 3,
      "metadata": {
        "id": "fpq9XjRC_TJG",
        "outputId": "fe6ec47a-9d62-4adb-d451-7608ddbbe64b",
        "colab": {
          "base_uri": "https://localhost:8080/"
        }
      },
      "outputs": [
        {
          "output_type": "stream",
          "name": "stdout",
          "text": [
            "T\n",
            "H\n",
            "First toss: T Second toss: H\n",
            "False True\n"
          ]
        }
      ],
      "source": [
        "# Nicholas Chung\n",
        "# TODO: Call the flip coin function above and save the return value\n",
        "# of each call in a separate value in order to use the results\n",
        "coin1 = flip_coin()\n",
        "coin2 = flip_coin()\n",
        "print(coin1)\n",
        "print(coin2)\n",
        "# You may use statements like these to \"peek\" into your programs;\n",
        "# once you know that they work as expected, you may remove them\n",
        "print('First toss:', coin1, 'Second toss:', coin2)\n",
        "\n",
        "# TODO: Declare two boolean variables, one for each coin flip.\n",
        "# TODO: Set the variable to True if the coin flip was heads and False\n",
        "# otherwise. What Boolean expression will you use?\n",
        "\n",
        "coin1boolean = False\n",
        "coin2boolean = False\n",
        "if coin1 == 'H':\n",
        "  coin1boolean = True\n",
        "if coin2 == 'H':\n",
        "  coin2boolean = True\n",
        "print(coin1boolean, coin2boolean)\n"
      ]
    },
    {
      "cell_type": "markdown",
      "metadata": {
        "id": "FBvQb4tOArmq"
      },
      "source": [
        "## Let's start walking...\n",
        "Now with the coins you flipped, **follow the instructions in the comments below to determine how many steps you or your robot should walk.** Remember to change your position by adding steps to move to the right and subtracting steps to move to the left.\n",
        "\n",
        "Ensure that you don’t go past the left or right wall—this is called “clamping” a variable."
      ]
    },
    {
      "cell_type": "code",
      "execution_count": 8,
      "metadata": {
        "id": "gLFgAtynBorm",
        "colab": {
          "base_uri": "https://localhost:8080/"
        },
        "outputId": "ca37b3be-b920-41a5-e112-cb022c6e454e"
      },
      "outputs": [
        {
          "output_type": "stream",
          "name": "stdout",
          "text": [
            "Your possible steps right are 12 or 24\n",
            "Your possible steps left are 38 or 76\n"
          ]
        }
      ],
      "source": [
        "# Here we will have to practice using conditional statements also.\n",
        "# We have already written code to set the random number of steps taken to the\n",
        "# left or right\n",
        "steps_right = get_steps()\n",
        "steps_left = get_steps()\n",
        "\n",
        "# For debugging you can set and change these values to check your conditions\n",
        "# without coin flips. Can you figure out how to change these to test\n",
        "# all the possible cases in your code that may occur?\n",
        "#position = 50\n",
        "#is_head1 = True\n",
        "#is_head2 = True\n",
        "#steps_right = 30\n",
        "#steps_left = 20\n",
        "\n",
        "print('Your possible steps right are',  steps_right, 'or', 2*steps_right)\n",
        "print('Your possible steps left are',  steps_left, 'or', 2*steps_left)\n",
        "\n",
        "# TODO: If both coin tosses were heads:\n",
        "    # move yourself or your robot to the right\n",
        "if coin1 == 'H' and coin2 == 'H':\n",
        "  steps_right = get_steps()\n",
        "# TODO: But if both coin tosses are tails\n",
        "#  (try to check this using an expression with `not`):\n",
        "    # move yourself or robot to the left\n",
        "elif coin1 == 'T' and coin2 == 'T':\n",
        "  steps_left = get_steps()\n",
        "# Otherwise:\n",
        "    # TODO: If first toss is heads or steps right is greater than steps left:\n",
        "        # move double number of steps right, and also the number of steps left\n",
        "elif coin1 == 'H' or steps_right > steps_left:\n",
        "  steps_right = steps_right * 2\n",
        "  steps_left = steps_left * 2\n",
        "    # Otherwise:\n",
        "        # move double number of steps left, and also the number of steps right\n",
        "else:\n",
        "  steps_right = steps_right * 2\n",
        "  steps_left = steps_left * 2\n",
        "\n",
        "\n",
        "# Below, we make sure that your position does not exceed the left wall\n",
        "# or the right wall, just as with the UFO.\n",
        "pos = 0\n",
        "lwall = -100\n",
        "rwall = 100\n",
        "\n",
        "# TODO: If your position is past left wall:\n",
        "    # set it to the left wall\n",
        "if pos > lwall:\n",
        "  pos = lwall\n",
        "# TODO: But if your position is past the right wall:\n",
        "    # set it to the right wall\n",
        "if pos > rwall:\n",
        "  pos = rwall\n"
      ]
    },
    {
      "cell_type": "markdown",
      "metadata": {
        "id": "xOdiKHMYKPNN"
      },
      "source": [
        "## Where are we?\n",
        "In the next cell we print out where we have walked to check. **You need only run this cell and see where you are.**"
      ]
    },
    {
      "cell_type": "code",
      "execution_count": 9,
      "metadata": {
        "id": "WBO3EEjaKdkz",
        "colab": {
          "base_uri": "https://localhost:8080/"
        },
        "outputId": "3ec45238-de09-42da-f0b1-43054cd0819e"
      },
      "outputs": [
        {
          "output_type": "stream",
          "name": "stdout",
          "text": [
            "You are at position 50 in the room.\n"
          ]
        }
      ],
      "source": [
        "print('You are at position', position, 'in the room.')\n",
        "\n",
        "# The code below tests that position is within the walls. Do not modify this.\n",
        "assert(0 <= position <= 100)"
      ]
    },
    {
      "cell_type": "markdown",
      "metadata": {
        "id": "dKL0LYd-E4JB"
      },
      "source": [
        "### (Optional) Reflections\n",
        "Add a text cell below to answer the following questions:\n",
        "1. What do you feel more confident about after completing this lab?\n",
        "2. What do you feel you can use more help with after completing this lab?\n",
        "3. Do you have any constructive suggestions on how we can help you or improve this lab?"
      ]
    },
    {
      "cell_type": "markdown",
      "metadata": {
        "id": "gB1aHDpyFYey"
      },
      "source": [
        "### Save your work to GitHub\n",
        "Please save this notebook to your **lab repository** _LMU-CMSI-1010/lab-notebooks-YOURID_"
      ]
    }
  ],
  "metadata": {
    "kernelspec": {
      "display_name": "Python 3.10.0 64-bit",
      "language": "python",
      "name": "python3"
    },
    "language_info": {
      "codemirror_mode": {
        "name": "ipython",
        "version": 3
      },
      "file_extension": ".py",
      "mimetype": "text/x-python",
      "name": "python",
      "nbconvert_exporter": "python",
      "pygments_lexer": "ipython3",
      "version": "3.10.0"
    },
    "vscode": {
      "interpreter": {
        "hash": "aee8b7b246df8f9039afb4144a1f6fd8d2ca17a180786b69acc140d282b71a49"
      }
    },
    "colab": {
      "provenance": [],
      "include_colab_link": true
    }
  },
  "nbformat": 4,
  "nbformat_minor": 0
}